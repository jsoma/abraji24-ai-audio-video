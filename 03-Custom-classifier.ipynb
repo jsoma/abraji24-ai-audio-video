{
 "cells": [
  {
   "cell_type": "markdown",
   "metadata": {},
   "source": [
    "# Using a custom classifier\n",
    "\n",
    "Maybe you want to do image classification on something *other* than what the model knows about. \n",
    "\n",
    "We can use [Hugging Face AutoTrain](https://huggingface.co/autotrain) to build our own image classification model. Mine is based on Texty's [Leprosy of the Land](https://texty.org.ua/d/2018/amber_eng/), which required a *lot* of machine learning technology back in 2018.\n",
    "\n",
    "Now let's use it below!\n",
    "\n",
    "## Loading the model\n",
    "\n",
    "We're going to visit [the model page](https://huggingface.co/wendys-llc/yet-another-amber-mines) and click \"Use this model\" in the top right-hand corner. It gives us a little code that we can use to download the model easily."
   ]
  },
  {
   "cell_type": "code",
   "execution_count": null,
   "metadata": {},
   "outputs": [],
   "source": [
    "# Use a pipeline as a high-level helper\n",
    "from transformers import pipeline\n",
    "\n",
    "pipe = pipeline(\"image-classification\",\n",
    "                model=\"wendys-llc/yet-another-amber-mines\") "
   ]
  },
  {
   "cell_type": "markdown",
   "metadata": {},
   "source": [
    "We have two sample images, [amber-example-1.png](amber-example-1.png) and [amber-example-2.png](amber-example-2.png). I wonder what the model thinks of them?"
   ]
  },
  {
   "cell_type": "code",
   "execution_count": null,
   "metadata": {},
   "outputs": [],
   "source": [
    "from IPython import display\n",
    "\n",
    "filename = \"amber-example-1.png\"\n",
    "display.Image(filename=filename)"
   ]
  },
  {
   "cell_type": "code",
   "execution_count": null,
   "metadata": {},
   "outputs": [],
   "source": [
    "from PIL import Image\n",
    "\n",
    "image = Image.open(\"amber-example-1.png\")\n",
    "pipe(image)"
   ]
  },
  {
   "cell_type": "markdown",
   "metadata": {},
   "source": [
    "The first one has a 99.9% score for being *positive*, which means the image most likely includes illegal amber mines."
   ]
  },
  {
   "cell_type": "code",
   "execution_count": null,
   "metadata": {},
   "outputs": [],
   "source": [
    "from IPython import display\n",
    "\n",
    "filename = \"amber-example-2.png\"\n",
    "display.Image(filename=filename)"
   ]
  },
  {
   "cell_type": "code",
   "execution_count": null,
   "metadata": {},
   "outputs": [],
   "source": [
    "from PIL import Image\n",
    "\n",
    "image = Image.open(\"amber-example-2.png\")\n",
    "pipe(image)"
   ]
  },
  {
   "cell_type": "markdown",
   "metadata": {},
   "source": [
    "It's almost as confident for the second one, a 99% score for not including any amber mines!"
   ]
  },
  {
   "cell_type": "markdown",
   "metadata": {},
   "source": [
    "## A secret: Collecting images\n",
    "\n",
    "Sometimes it's hard to collect images to train your classifier, so you can cheat a little by automatically downloading them from Bing.  It's a pain to do it manually, so I just use [this Bing image downloader](https://github.com/gurugaurav/bing_image_downloader). Download below as an example, I download 40 images of the faces of Joe Biden and Donald Trump."
   ]
  },
  {
   "cell_type": "code",
   "execution_count": null,
   "metadata": {},
   "outputs": [],
   "source": [
    "%pip install --upgrade --quiet bing-image-downloader"
   ]
  },
  {
   "cell_type": "code",
   "execution_count": null,
   "metadata": {},
   "outputs": [],
   "source": [
    "from bing_image_downloader import downloader\n",
    "\n",
    "downloader.download(\"donald trump face\",\n",
    "                    limit=40,\n",
    "                    output_dir='downloaded-images',\n",
    "                    timeout=30)\n",
    "\n",
    "downloader.download(\"joe biden face\",\n",
    "                    limit=40,\n",
    "                    output_dir='downloaded-images',\n",
    "                    timeout=30)"
   ]
  }
 ],
 "metadata": {
  "kernelspec": {
   "display_name": "Python 3",
   "language": "python",
   "name": "python3"
  },
  "language_info": {
   "codemirror_mode": {
    "name": "ipython",
    "version": 3
   },
   "file_extension": ".py",
   "mimetype": "text/x-python",
   "name": "python",
   "nbconvert_exporter": "python",
   "pygments_lexer": "ipython3",
   "version": "3.10.13"
  }
 },
 "nbformat": 4,
 "nbformat_minor": 2
}
