{
 "cells": [
  {
   "cell_type": "markdown",
   "metadata": {},
   "source": [
    "## Download the video\n",
    "\n",
    "We're going to use [yt-dlp](https://github.com/yt-dlp/yt-dlp) to download a video. It's not very fun to use so I recommend taking any troubles/questions to ChatGPT. It's a pretty popular piece of software so ChatGPT usually has good answers.\n",
    "\n",
    "First we'll install it..."
   ]
  },
  {
   "cell_type": "code",
   "execution_count": null,
   "metadata": {},
   "outputs": [],
   "source": [
    "%pip install --quiet --upgrade \"yt-dlp[default]\""
   ]
  },
  {
   "cell_type": "markdown",
   "metadata": {},
   "source": [
    "...then we'll use it to download [this video](https://www.youtube.com/watch?v=uvQK7WTkKpI). If you want a different video, you just change the URL inside of the quotes. It also works for TikTok!"
   ]
  },
  {
   "cell_type": "code",
   "execution_count": null,
   "metadata": {},
   "outputs": [],
   "source": [
    "!yt-dlp \"https://www.youtube.com/watch?v=uvQK7WTkKpI\""
   ]
  },
  {
   "cell_type": "markdown",
   "metadata": {},
   "source": [
    "## Transcribe the video\n",
    "\n",
    "I'm going to use [insanely fast whisper](https://github.com/Vaibhavs10/insanely-fast-whisper) instead of the normal one so I can show you how fast it can be on Google Colab!\n",
    "\n",
    "> But honestly: just use EasyWhisper (Windows) or MacWhisper (macOS). Unless you're writing software there's no real reason to be doing this stuff with Python!"
   ]
  },
  {
   "cell_type": "code",
   "execution_count": null,
   "metadata": {},
   "outputs": [],
   "source": [
    "%pip install --quiet --upgrade insanely-fast-whisper"
   ]
  },
  {
   "cell_type": "markdown",
   "metadata": {},
   "source": [
    "The code below will only work if you are on Colab or have a fancy Windows computer!"
   ]
  },
  {
   "cell_type": "code",
   "execution_count": null,
   "metadata": {},
   "outputs": [],
   "source": [
    "%pip install --quiet --upgrade flash-attn"
   ]
  },
  {
   "cell_type": "markdown",
   "metadata": {},
   "source": [
    "If you're running on Google Colab, with a high-quality model (recommended):\n",
    "\n",
    "```\n",
    "!insanely-fast-whisper \\\n",
    "    --flash True \\\n",
    "    --file-name \"How to Fix Holes in Drywall - 4 Easy Methods [uvQK7WTkKpI].webm\"\n",
    "```\n",
    "\n",
    "If you're running on macOS, with a smaller/faster/worse quality model:\n",
    "\n",
    "```\n",
    "!insanely-fast-whisper \\\n",
    "    --device-id mps \\\n",
    "    --model-name openai/whisper-small.en \\\n",
    "    --file-name \"How to Fix Holes in Drywall - 4 Easy Methods [uvQK7WTkKpI].webm\"\n",
    "```\n",
    "\n",
    "Again, just use MacWhisper or EasyWhisper for this!!! Unless you really need to program, there's no true need for this."
   ]
  },
  {
   "cell_type": "code",
   "execution_count": 35,
   "metadata": {},
   "outputs": [
    {
     "name": "stdout",
     "output_type": "stream",
     "text": [
      "/Users/soma/.pyenv/versions/3.10.13/lib/python3.10/site-packages/pyannote/audio/core/io.py:43: UserWarning: torchaudio._backend.set_audio_backend has been deprecated. With dispatcher enabled, this function is no-op. You can remove the function call.\n",
      "  torchaudio.set_audio_backend(\"soundfile\")\n",
      "\u001b[2K🤗 \u001b[33mTranscribing...\u001b[0m \u001b[37m━\u001b[0m\u001b[37m━\u001b[0m\u001b[37m━\u001b[0m\u001b[37m━\u001b[0m\u001b[93m━\u001b[0m\u001b[93m━\u001b[0m\u001b[93m━\u001b[0m\u001b[93m━\u001b[0m\u001b[93m━\u001b[0m\u001b[93m━\u001b[0m\u001b[93m━\u001b[0m\u001b[93m━\u001b[0m\u001b[93m━\u001b[0m\u001b[93m━\u001b[0m\u001b[93m━\u001b[0m\u001b[93m━\u001b[0m\u001b[93m━\u001b[0m\u001b[37m━\u001b[0m\u001b[37m━\u001b[0m\u001b[37m━\u001b[0m\u001b[37m━\u001b[0m\u001b[37m━\u001b[0m\u001b[37m━\u001b[0m\u001b[37m━\u001b[0m\u001b[93m━\u001b[0m\u001b[93m━\u001b[0m\u001b[93m━\u001b[0m\u001b[93m━\u001b[0m\u001b[93m━\u001b[0m\u001b[93m━\u001b[0m\u001b[93m━\u001b[0m\u001b[93m━\u001b[0m\u001b[93m━\u001b[0m\u001b[93m━\u001b[0m\u001b[93m━\u001b[0m\u001b[93m━\u001b[0m\u001b[93m━\u001b[0m\u001b[37m━\u001b[0m\u001b[37m━\u001b[0m\u001b[37m━\u001b[0m \u001b[33m0:01:35\u001b[0m\n",
      "\u001b[?25hVoila!✨ Your file has been transcribed go check it out over here 👉 output.json\n"
     ]
    }
   ],
   "source": [
    "!insanely-fast-whisper \\\n",
    "    --device-id mps \\\n",
    "    --model-name openai/whisper-small.en \\\n",
    "    --file-name \"How to Fix Holes in Drywall - 4 Easy Methods [uvQK7WTkKpI].webm\""
   ]
  },
  {
   "cell_type": "code",
   "execution_count": 44,
   "metadata": {},
   "outputs": [],
   "source": [
    "import json\n",
    "import pandas as pd\n",
    "\n",
    "with open(\"output.json\") as fp:\n",
    "    data = json.load(fp)\n",
    "\n",
    "df = pd.json_normalize(data['chunks'])\n",
    "df['start'] = df.timestamp.str[0]\n",
    "df['end'] = df.timestamp.str[1]\n",
    "df = df.drop(columns='timestamp')\n",
    "df.to_csv(\"segments.csv\", index=False)\n",
    "\n",
    "text = '\\n'.join([chunk['text'] for chunk in data['chunks']])\n",
    "with open(\"transcript.txt\", 'w') as fp:\n",
    "    fp.write(text)"
   ]
  },
  {
   "cell_type": "code",
   "execution_count": 45,
   "metadata": {},
   "outputs": [
    {
     "name": "stdout",
     "output_type": "stream",
     "text": [
      " Hi there, I'm Nils with Learn2DIY and sometimes bad stuff happens to your drywall.\n",
      " So today we're going to cover all of these types of damage and we're going to\n",
      " show you how to fix each one of them.\n",
      " Now just about every hole that you'll find in drywall falls into one of four\n",
      " types. Basically you've got something that's really small,\n",
      " like an inch, inch and a half or smaller,\n",
      " maybe that's two and a half, three centimeters.\n",
      " And that's something that we can patch a certain way up from there.\n",
      " You got anything between that size and maybe fist size,\n",
      " four or five inches or so.\n",
      " And then from there you've got something that's big enough that it's in between\n",
      " your studs or maybe it's even over a stud, but it needs some support.\n",
      " So we're talking stuff that's about this big or smaller, maybe a seven,\n",
      " eight inches, nine inches in that range.\n",
      " And then lastly we've got some major damage like what we showed over here.\n",
      " And this is just going to need to have a whole section replaced.\n",
      " So t\n"
     ]
    }
   ],
   "source": [
    "print(text[:1000])"
   ]
  },
  {
   "cell_type": "markdown",
   "metadata": {},
   "source": [
    "## Summarize with OpenAI\n",
    "\n",
    "We *could* drop this into ChatGPT manually or use Google Sheets with Claude for Sheets, but instead we're going to keep going with coding. Unlike Whisper which ran on our own computer, this does require us to send the content to OpenAI to get a summary.\n",
    "\n",
    "You'll need to add an API key below to get access to OpenAI through the software."
   ]
  },
  {
   "cell_type": "code",
   "execution_count": null,
   "metadata": {},
   "outputs": [],
   "source": [
    "%pip install --quiet --upgrade openai"
   ]
  },
  {
   "cell_type": "code",
   "execution_count": null,
   "metadata": {},
   "outputs": [],
   "source": [
    "from openai import OpenAI\n",
    "\n",
    "client = OpenAI(api_key='sk-proj-XXXXXXXXXX')\n",
    "\n",
    "text = open(\"transcript.txt\").read()\n",
    "\n",
    "result = client.chat.completions.create(\n",
    "    messages=[{ \"role\": \"user\", \"content\": f\"Summarize the transcript below:\\n\\n{text}\",}],\n",
    "    model=\"gpt-4o\",\n",
    "    max_tokens=1024\n",
    ")"
   ]
  },
  {
   "cell_type": "code",
   "execution_count": 46,
   "metadata": {},
   "outputs": [
    {
     "name": "stdout",
     "output_type": "stream",
     "text": [
      "Nils from Learn2DIY outlines how to fix different types of drywall damage, categorized into four main types: \n",
      "\n",
      "1. **Small Holes (up to 1.5 inches/3.8 cm):**\n",
      "   - Use mud to fill in these tiny holes without needing tape or a patch kit. Generic mud bought from a store is sufficient.\n",
      "   - Apply mud with a putty knife, ensuring it packs firmly.\n",
      "\n",
      "2. **Medium Holes (up to fist-sized, around 4-5 inches/10-12.7 cm):**\n",
      "   - Three methodologies: \n",
      "     - **Mesh Adhesive Patch:** Smooth out over the hole, apply mud generously to cover.\n",
      "     - **Presto Patch:** Cut a template, fit in the patch, and apply mud around and within the patch.\n",
      "     - **California Patch:** Make a custom patch from drywall, apply mud, and fit it in just like the Presto Patch.\n",
      "\n",
      "3. **Larger Holes (up to 10 inches/25.4 cm):**\n",
      "   - Require backer boards for extra support.\n",
      "   - Clean the edges, use some wood as backer boards, screw them in for support, and then fit the patch.\n",
      "\n",
      "4. **Major Damage (large sections):**\n",
      "   - Cut from stud to stud using a stud finder and then replace the entire section.\n",
      "   - Fasten the new drywall piece, use mesh tape on seams, and apply mud.\n",
      "\n",
      "Throughout the fixes, the importance of smoothing and layering mud, sanding, and ensuring a seamless texture is stressed. Various texture sprays (like orange peel or knockdown) help match the original wall surface. Different stud finders can be referenced for accuracy in finding the studs. \n",
      "\n",
      "In the end, paint over the fixed area to blend with the existing wall.\n"
     ]
    }
   ],
   "source": [
    "summary = result.choices[0].message.content\n",
    "print(summary)"
   ]
  },
  {
   "cell_type": "code",
   "execution_count": null,
   "metadata": {},
   "outputs": [],
   "source": []
  }
 ],
 "metadata": {
  "kernelspec": {
   "display_name": "Python 3",
   "language": "python",
   "name": "python3"
  },
  "language_info": {
   "codemirror_mode": {
    "name": "ipython",
    "version": 3
   },
   "file_extension": ".py",
   "mimetype": "text/x-python",
   "name": "python",
   "nbconvert_exporter": "python",
   "pygments_lexer": "ipython3",
   "version": "3.10.13"
  }
 },
 "nbformat": 4,
 "nbformat_minor": 2
}
